{
 "cells": [
  {
   "cell_type": "markdown",
   "id": "c7236637",
   "metadata": {},
   "source": [
    "# AIRR Workshop"
   ]
  },
  {
   "cell_type": "markdown",
   "id": "f34e1a38",
   "metadata": {},
   "source": [
    "## Dawn"
   ]
  },
  {
   "cell_type": "markdown",
   "id": "853506d2",
   "metadata": {},
   "source": [
    "In today's workshop we'll be using the UK's current fastest AI supercomputer, Dawn. This is a system with 256 Dell nodes each with 4 Intel Data Centre Max 1550 (formerly known as Ponte Vecchio) GPUs connected with Xe link, 128GB RAM per GPU, and 2 Intel Sapphire Rapids CPUs, for a total of 96 cores.  This gives Dawn 1024 GPUs in total. The nodes are connected with 200Gbps InfiniBand."
   ]
  },
  {
   "cell_type": "markdown",
   "id": "5d33886b",
   "metadata": {},
   "source": [
    "## Examing a node"
   ]
  },
  {
   "cell_type": "markdown",
   "id": "bc5f1c70",
   "metadata": {},
   "source": [
    "Run the cell below to show a script that will demonstrate the four GPUs of a Dawn node."
   ]
  },
  {
   "cell_type": "code",
   "execution_count": null,
   "id": "318fd223",
   "metadata": {},
   "outputs": [],
   "source": [
    "%cat ~/show_gpu.sh"
   ]
  },
  {
   "cell_type": "markdown",
   "id": "88036fa2",
   "metadata": {},
   "source": [
    "Now let's submit that script to the job scheduler. You shouldn't have to wait too long for the job to run; once it's finished you'll see the output below."
   ]
  },
  {
   "cell_type": "code",
   "execution_count": null,
   "id": "fcaa2cd2",
   "metadata": {},
   "outputs": [],
   "source": [
    "!~/submit_1n_job.sh ~/show_gpu.sh"
   ]
  },
  {
   "cell_type": "markdown",
   "id": "4eb41076",
   "metadata": {},
   "source": [
    "With the current GPU drivers on Dawn both tiles of each GPU are exposed as a separate PyTorch device."
   ]
  },
  {
   "cell_type": "markdown",
   "id": "c047e199",
   "metadata": {},
   "source": [
    "## Train GPT2 on 1 node"
   ]
  },
  {
   "cell_type": "markdown",
   "id": "1793d575",
   "metadata": {},
   "source": [
    "This workshop uses [DeepSpeed](https://github.com/microsoft/DeepSpeed) to allow the deep learning model to be trained scalably on multiple nodes. The model is [GPT2](https://openai.com/index/gpt-2-1-5b-release/), a 1.5B parameter large language model. This is trained using [Megatron-LM](https://github.com/NVIDIA/Megatron-LM) which is a library of model training techniques."
   ]
  },
  {
   "cell_type": "markdown",
   "id": "d9e88a6a-1167-496c-9c03-fdfa5eb78ce6",
   "metadata": {},
   "source": [
    "Execute this cell to submit the single node training script.  There will be some warnings at the beginning, then you will see the model training output.\n",
    "The script may output an error or warning at the very end; this can be ignored! In the interests of time the model is not trained to completion, just for 20 iterations.\n",
    "\n"
   ]
  },
  {
   "cell_type": "code",
   "execution_count": null,
   "id": "5303de34-11b6-49ca-96e5-d3cf849bac00",
   "metadata": {},
   "outputs": [],
   "source": [
    "!~/submit_1n_job.sh ~/train_gpt_1node.sh"
   ]
  },
  {
   "cell_type": "markdown",
   "id": "a0b7cd4f",
   "metadata": {},
   "source": [
    "## Train GPT2 on 4 nodes\n"
   ]
  },
  {
   "cell_type": "markdown",
   "id": "2c388aab-e18c-474c-8952-2d28946deb43",
   "metadata": {},
   "source": [
    "Let's examine distributed training (scale out). The next configuration of the model is 20B parameters, so we will need to use 4 Dawn nodes -- that's 16 GPUs -- to train it. \n",
    "\n",
    "Execute the next cell to submit the 4 node training script. The output will be similar to that from the single node example."
   ]
  },
  {
   "cell_type": "code",
   "execution_count": null,
   "id": "860eda33-64d2-498e-ad5a-1ac635b1b8b5",
   "metadata": {},
   "outputs": [],
   "source": [
    "!~/submit_4n_job.sh ~/train_gpt_4node.sh"
   ]
  }
 ],
 "metadata": {
  "kernelspec": {
   "display_name": "Python 3 (ipykernel)",
   "language": "python",
   "name": "python3"
  },
  "language_info": {
   "codemirror_mode": {
    "name": "ipython",
    "version": 3
   },
   "file_extension": ".py",
   "mimetype": "text/x-python",
   "name": "python",
   "nbconvert_exporter": "python",
   "pygments_lexer": "ipython3",
   "version": "3.10.12"
  }
 },
 "nbformat": 4,
 "nbformat_minor": 5
}
