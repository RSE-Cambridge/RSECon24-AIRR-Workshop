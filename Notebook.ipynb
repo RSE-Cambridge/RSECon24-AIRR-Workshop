{
 "cells": [
  {
   "cell_type": "markdown",
   "id": "c7236637",
   "metadata": {},
   "source": [
    "# AIRR Workshop"
   ]
  },
  {
   "cell_type": "markdown",
   "id": "f34e1a38",
   "metadata": {},
   "source": [
    "## Dawn"
   ]
  },
  {
   "cell_type": "markdown",
   "id": "853506d2",
   "metadata": {},
   "source": [
    "In today's workshop we'll be using the UK's current fastest AI supercomputer, Dawn. This is a system with 256 Dell nodes each with 4 Intel Data Centre Max 1550 (formerly known as Ponte Vecchio) GPUs connected with Xe link, 128GB RAM per GPU, and 2 Intel Sapphire Rapids CPUs, for a total of 112 cores.  This gives Dawn 1024 GPUs in total. The nodes are connected with 200Gbps InfiniBand."
   ]
  },
  {
   "cell_type": "markdown",
   "id": "5d33886b",
   "metadata": {},
   "source": [
    "## Examing a node"
   ]
  },
  {
   "cell_type": "markdown",
   "id": "bc5f1c70",
   "metadata": {},
   "source": [
    "Run the cell below to show a script that will demonstrate the four GPUs of a Dawn node."
   ]
  },
  {
   "cell_type": "code",
   "execution_count": null,
   "id": "318fd223",
   "metadata": {},
   "outputs": [],
   "source": [
    "%cat ~cje57/RSECon24/show_gpu.sh"
   ]
  },
  {
   "cell_type": "markdown",
   "id": "88036fa2",
   "metadata": {},
   "source": [
    "Now let's submit that script to the job scheduler. You shouldn't have to wait too long for the job to run; once it's finished you'll see the output below."
   ]
  },
  {
   "cell_type": "code",
   "execution_count": null,
   "id": "fcaa2cd2",
   "metadata": {},
   "outputs": [],
   "source": [
    "!~cje57/RSECon24/submit_job.sh ~cje57/RSECon24/show_gpu.sh"
   ]
  },
  {
   "cell_type": "markdown",
   "id": "4eb41076",
   "metadata": {},
   "source": [
    "With the current GPU drivers on Dawn both tiles of each GPU are exposed as a separate PyTorch device."
   ]
  },
  {
   "cell_type": "markdown",
   "id": "c047e199",
   "metadata": {},
   "source": [
    "## Train GPT2 on 1 node"
   ]
  },
  {
   "cell_type": "markdown",
   "id": "1793d575",
   "metadata": {},
   "source": [
    "DeepSpeed"
   ]
  },
  {
   "cell_type": "markdown",
   "id": "a0b7cd4f",
   "metadata": {},
   "source": [
    "## Train GPT2 on 4 nodes\n"
   ]
  },
  {
   "cell_type": "markdown",
   "id": "6701156e",
   "metadata": {},
   "source": [
    "optinally do some inference ( have a prompt and get the LLM to complete it)"
   ]
  },
  {
   "cell_type": "code",
   "execution_count": null,
   "id": "475b660a",
   "metadata": {},
   "outputs": [],
   "source": []
  }
 ],
 "metadata": {
  "kernelspec": {
   "display_name": "Python 3",
   "language": "python",
   "name": "python3"
  },
  "language_info": {
   "codemirror_mode": {
    "name": "ipython",
    "version": 3
   },
   "file_extension": ".py",
   "mimetype": "text/x-python",
   "name": "python",
   "nbconvert_exporter": "python",
   "pygments_lexer": "ipython3",
   "version": "3.6.8"
  }
 },
 "nbformat": 4,
 "nbformat_minor": 5
}
