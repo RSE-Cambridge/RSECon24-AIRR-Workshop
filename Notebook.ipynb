{
 "cells": [
  {
   "cell_type": "markdown",
   "id": "16d47944",
   "metadata": {},
   "source": [
    "# AIRR Workshop"
   ]
  },
  {
   "cell_type": "markdown",
   "id": "823ebfd6",
   "metadata": {},
   "source": [
    "show the contents of the test script"
   ]
  },
  {
   "cell_type": "markdown",
   "id": "a56f662c",
   "metadata": {},
   "source": [
    "sbatch a test job that demonstrates we are on a pvc node (pytorch get_device_name)"
   ]
  },
  {
   "cell_type": "code",
   "execution_count": null,
   "id": "1dddc3cd",
   "metadata": {},
   "outputs": [],
   "source": []
  }
 ],
 "metadata": {
  "kernelspec": {
   "display_name": "Python 3",
   "language": "python",
   "name": "python3"
  },
  "language_info": {
   "codemirror_mode": {
    "name": "ipython",
    "version": 3
   },
   "file_extension": ".py",
   "mimetype": "text/x-python",
   "name": "python",
   "nbconvert_exporter": "python",
   "pygments_lexer": "ipython3",
   "version": "3.6.8"
  }
 },
 "nbformat": 4,
 "nbformat_minor": 5
}
